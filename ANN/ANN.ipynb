{
 "cells": [
  {
   "cell_type": "code",
   "execution_count": 1,
   "id": "71c04b71-96f2-4512-afca-3c2a6e7ca78b",
   "metadata": {},
   "outputs": [],
   "source": [
    "import numpy as np\n",
    "import pandas as pd\n",
    "import matplotlib.pyplot as plt"
   ]
  },
  {
   "cell_type": "code",
   "execution_count": 2,
   "id": "fda6e515-8bea-4072-a2c7-7990e1173430",
   "metadata": {},
   "outputs": [],
   "source": [
    "data = pd.read_csv('Churn_Modelling.csv')"
   ]
  },
  {
   "cell_type": "code",
   "execution_count": 3,
   "id": "6ffc00bc-486b-413f-9ed5-0b9fc4f3dded",
   "metadata": {},
   "outputs": [
    {
     "data": {
      "text/html": [
       "<div>\n",
       "<style scoped>\n",
       "    .dataframe tbody tr th:only-of-type {\n",
       "        vertical-align: middle;\n",
       "    }\n",
       "\n",
       "    .dataframe tbody tr th {\n",
       "        vertical-align: top;\n",
       "    }\n",
       "\n",
       "    .dataframe thead th {\n",
       "        text-align: right;\n",
       "    }\n",
       "</style>\n",
       "<table border=\"1\" class=\"dataframe\">\n",
       "  <thead>\n",
       "    <tr style=\"text-align: right;\">\n",
       "      <th></th>\n",
       "      <th>RowNumber</th>\n",
       "      <th>CustomerId</th>\n",
       "      <th>Surname</th>\n",
       "      <th>CreditScore</th>\n",
       "      <th>Geography</th>\n",
       "      <th>Gender</th>\n",
       "      <th>Age</th>\n",
       "      <th>Tenure</th>\n",
       "      <th>Balance</th>\n",
       "      <th>NumOfProducts</th>\n",
       "      <th>HasCrCard</th>\n",
       "      <th>IsActiveMember</th>\n",
       "      <th>EstimatedSalary</th>\n",
       "      <th>Exited</th>\n",
       "    </tr>\n",
       "  </thead>\n",
       "  <tbody>\n",
       "    <tr>\n",
       "      <th>0</th>\n",
       "      <td>1</td>\n",
       "      <td>15634602</td>\n",
       "      <td>Hargrave</td>\n",
       "      <td>619</td>\n",
       "      <td>France</td>\n",
       "      <td>Female</td>\n",
       "      <td>42</td>\n",
       "      <td>2</td>\n",
       "      <td>0.00</td>\n",
       "      <td>1</td>\n",
       "      <td>1</td>\n",
       "      <td>1</td>\n",
       "      <td>101348.88</td>\n",
       "      <td>1</td>\n",
       "    </tr>\n",
       "    <tr>\n",
       "      <th>1</th>\n",
       "      <td>2</td>\n",
       "      <td>15647311</td>\n",
       "      <td>Hill</td>\n",
       "      <td>608</td>\n",
       "      <td>Spain</td>\n",
       "      <td>Female</td>\n",
       "      <td>41</td>\n",
       "      <td>1</td>\n",
       "      <td>83807.86</td>\n",
       "      <td>1</td>\n",
       "      <td>0</td>\n",
       "      <td>1</td>\n",
       "      <td>112542.58</td>\n",
       "      <td>0</td>\n",
       "    </tr>\n",
       "    <tr>\n",
       "      <th>2</th>\n",
       "      <td>3</td>\n",
       "      <td>15619304</td>\n",
       "      <td>Onio</td>\n",
       "      <td>502</td>\n",
       "      <td>France</td>\n",
       "      <td>Female</td>\n",
       "      <td>42</td>\n",
       "      <td>8</td>\n",
       "      <td>159660.80</td>\n",
       "      <td>3</td>\n",
       "      <td>1</td>\n",
       "      <td>0</td>\n",
       "      <td>113931.57</td>\n",
       "      <td>1</td>\n",
       "    </tr>\n",
       "    <tr>\n",
       "      <th>3</th>\n",
       "      <td>4</td>\n",
       "      <td>15701354</td>\n",
       "      <td>Boni</td>\n",
       "      <td>699</td>\n",
       "      <td>France</td>\n",
       "      <td>Female</td>\n",
       "      <td>39</td>\n",
       "      <td>1</td>\n",
       "      <td>0.00</td>\n",
       "      <td>2</td>\n",
       "      <td>0</td>\n",
       "      <td>0</td>\n",
       "      <td>93826.63</td>\n",
       "      <td>0</td>\n",
       "    </tr>\n",
       "    <tr>\n",
       "      <th>4</th>\n",
       "      <td>5</td>\n",
       "      <td>15737888</td>\n",
       "      <td>Mitchell</td>\n",
       "      <td>850</td>\n",
       "      <td>Spain</td>\n",
       "      <td>Female</td>\n",
       "      <td>43</td>\n",
       "      <td>2</td>\n",
       "      <td>125510.82</td>\n",
       "      <td>1</td>\n",
       "      <td>1</td>\n",
       "      <td>1</td>\n",
       "      <td>79084.10</td>\n",
       "      <td>0</td>\n",
       "    </tr>\n",
       "  </tbody>\n",
       "</table>\n",
       "</div>"
      ],
      "text/plain": [
       "   RowNumber  CustomerId   Surname  CreditScore Geography  Gender  Age  \\\n",
       "0          1    15634602  Hargrave          619    France  Female   42   \n",
       "1          2    15647311      Hill          608     Spain  Female   41   \n",
       "2          3    15619304      Onio          502    France  Female   42   \n",
       "3          4    15701354      Boni          699    France  Female   39   \n",
       "4          5    15737888  Mitchell          850     Spain  Female   43   \n",
       "\n",
       "   Tenure    Balance  NumOfProducts  HasCrCard  IsActiveMember  \\\n",
       "0       2       0.00              1          1               1   \n",
       "1       1   83807.86              1          0               1   \n",
       "2       8  159660.80              3          1               0   \n",
       "3       1       0.00              2          0               0   \n",
       "4       2  125510.82              1          1               1   \n",
       "\n",
       "   EstimatedSalary  Exited  \n",
       "0        101348.88       1  \n",
       "1        112542.58       0  \n",
       "2        113931.57       1  \n",
       "3         93826.63       0  \n",
       "4         79084.10       0  "
      ]
     },
     "execution_count": 3,
     "metadata": {},
     "output_type": "execute_result"
    }
   ],
   "source": [
    "data.head()"
   ]
  },
  {
   "cell_type": "code",
   "execution_count": 4,
   "id": "c5963698-1579-4385-88ba-80da230a3e5c",
   "metadata": {},
   "outputs": [
    {
     "data": {
      "text/plain": [
       "RowNumber            int64\n",
       "CustomerId           int64\n",
       "Surname             object\n",
       "CreditScore          int64\n",
       "Geography           object\n",
       "Gender              object\n",
       "Age                  int64\n",
       "Tenure               int64\n",
       "Balance            float64\n",
       "NumOfProducts        int64\n",
       "HasCrCard            int64\n",
       "IsActiveMember       int64\n",
       "EstimatedSalary    float64\n",
       "Exited               int64\n",
       "dtype: object"
      ]
     },
     "execution_count": 4,
     "metadata": {},
     "output_type": "execute_result"
    }
   ],
   "source": [
    "data.dtypes"
   ]
  },
  {
   "cell_type": "code",
   "execution_count": 5,
   "id": "57fc7ef5-d9a0-4ae8-85fe-907d30beb2e0",
   "metadata": {},
   "outputs": [],
   "source": [
    "X = data.iloc[:, 3:13]\n",
    "Y = data.iloc[:, 13]"
   ]
  },
  {
   "cell_type": "code",
   "execution_count": 9,
   "id": "e1dac20f-868c-41d1-86ac-a7447e0a9f5c",
   "metadata": {},
   "outputs": [],
   "source": [
    "x = pd.unique(X['Geography'])"
   ]
  },
  {
   "cell_type": "code",
   "execution_count": 11,
   "id": "d90173bc-7ec0-4843-b806-fd313587bc16",
   "metadata": {},
   "outputs": [
    {
     "data": {
      "text/plain": [
       "array(['France', 'Spain', 'Germany'], dtype=object)"
      ]
     },
     "execution_count": 11,
     "metadata": {},
     "output_type": "execute_result"
    }
   ],
   "source": [
    "x"
   ]
  },
  {
   "cell_type": "code",
   "execution_count": 12,
   "id": "ae9a7f05-aaf0-42df-a8d4-6d77a9307bd7",
   "metadata": {},
   "outputs": [],
   "source": [
    "geo = pd.get_dummies(X[\"Geography\"],drop_first=True)\n",
    "gender = pd.get_dummies(X[\"Gender\"],drop_first=True)"
   ]
  },
  {
   "cell_type": "code",
   "execution_count": 13,
   "id": "60a3c8c2-c817-4358-afc4-038e7713f8b2",
   "metadata": {},
   "outputs": [],
   "source": [
    "X = pd.concat([X,geo,gender],axis=1)"
   ]
  },
  {
   "cell_type": "code",
   "execution_count": 14,
   "id": "60c71ea9-512d-4beb-9de8-337191fb98ba",
   "metadata": {},
   "outputs": [],
   "source": [
    "X=X.drop(['Geography','Gender'],axis=1)"
   ]
  },
  {
   "cell_type": "code",
   "execution_count": 15,
   "id": "1ffd195a-2f6d-45f6-9392-e1776b55bc92",
   "metadata": {},
   "outputs": [],
   "source": [
    "from sklearn.model_selection import train_test_split"
   ]
  },
  {
   "cell_type": "code",
   "execution_count": 16,
   "id": "75af1b5c-6fbb-4cce-81a6-ac8c46eb486f",
   "metadata": {},
   "outputs": [],
   "source": [
    "x_train,x_test,y_train,y_test = train_test_split(X, Y, test_size=0.2, random_state=0)"
   ]
  },
  {
   "cell_type": "code",
   "execution_count": 17,
   "id": "10fb2f9a-b2f7-4b43-9115-0fd5ce84989e",
   "metadata": {},
   "outputs": [],
   "source": [
    "from sklearn.preprocessing import StandardScaler"
   ]
  },
  {
   "cell_type": "code",
   "execution_count": 19,
   "id": "94aa4dff-7798-4a5c-a106-61499f50baea",
   "metadata": {},
   "outputs": [],
   "source": [
    "sc = StandardScaler()"
   ]
  },
  {
   "cell_type": "code",
   "execution_count": 22,
   "id": "9f06a48c-2ec7-43b9-a05d-3f8e9be7260c",
   "metadata": {},
   "outputs": [],
   "source": [
    "x_train = sc.fit_transform(x_train)\n",
    "x_test = sc.transform(x_test)"
   ]
  },
  {
   "cell_type": "code",
   "execution_count": 24,
   "id": "b58b91f6-8419-4b01-b5b7-dd36f64381a2",
   "metadata": {},
   "outputs": [],
   "source": [
    "import keras\n",
    "from keras.models import Sequential\n",
    "from keras.layers import Dense\n",
    "from keras.layers import LeakyReLU,PReLU,ELU\n",
    "from keras.layers import Dropout"
   ]
  },
  {
   "cell_type": "code",
   "execution_count": 25,
   "id": "abcb5ca0-23b6-478f-88b3-7a308030cd7c",
   "metadata": {},
   "outputs": [],
   "source": [
    "classifier = Sequential()"
   ]
  },
  {
   "cell_type": "code",
   "execution_count": 29,
   "id": "735f171c-3dd5-4303-a7bc-580b76113d94",
   "metadata": {},
   "outputs": [],
   "source": [
    "classifier.add(Dense(units = 6, kernel_initializer = 'he_uniform', activation = 'relu', input_dim = 11))"
   ]
  },
  {
   "cell_type": "code",
   "execution_count": 30,
   "id": "654742b0-f29e-40e0-8c79-607884e4d8fd",
   "metadata": {},
   "outputs": [],
   "source": [
    "classifier.add(Dense(units = 6, kernel_initializer = 'he_uniform', activation = 'relu'))"
   ]
  },
  {
   "cell_type": "code",
   "execution_count": 32,
   "id": "7d39d7ec-a06c-429c-afdc-7394baf9faf7",
   "metadata": {},
   "outputs": [],
   "source": [
    "classifier.add(Dense(units=1, kernel_initializer = 'glorot_uniform', activation = 'sigmoid' ))"
   ]
  },
  {
   "cell_type": "code",
   "execution_count": 38,
   "id": "c2e4d97e-a35f-4c0a-81a6-ff8e211942dc",
   "metadata": {},
   "outputs": [],
   "source": [
    "classifier.compile(optimizer = 'Adamax', loss = 'binary_crossentropy', metrics = ['accuracy'])"
   ]
  },
  {
   "cell_type": "code",
   "execution_count": 41,
   "id": "6313e657-0e7c-457d-95df-27a30146cb05",
   "metadata": {},
   "outputs": [
    {
     "name": "stdout",
     "output_type": "stream",
     "text": [
      "Epoch 1/100\n",
      "536/536 [==============================] - 23s 5ms/step - loss: 0.5593 - accuracy: 0.7967 - val_loss: 0.5018 - val_accuracy: 0.7955\n",
      "Epoch 2/100\n",
      "536/536 [==============================] - 2s 3ms/step - loss: 0.5022 - accuracy: 0.7947 - val_loss: 0.4757 - val_accuracy: 0.7955\n",
      "Epoch 3/100\n",
      "536/536 [==============================] - 2s 3ms/step - loss: 0.4624 - accuracy: 0.8103 - val_loss: 0.4612 - val_accuracy: 0.7955\n",
      "Epoch 4/100\n",
      "536/536 [==============================] - 1s 2ms/step - loss: 0.4740 - accuracy: 0.7909 - val_loss: 0.4530 - val_accuracy: 0.7955\n",
      "Epoch 5/100\n",
      "536/536 [==============================] - 2s 3ms/step - loss: 0.4581 - accuracy: 0.7926 - val_loss: 0.4478 - val_accuracy: 0.7955\n",
      "Epoch 6/100\n",
      "536/536 [==============================] - 1s 2ms/step - loss: 0.4407 - accuracy: 0.8024 - val_loss: 0.4445 - val_accuracy: 0.7955\n",
      "Epoch 7/100\n",
      "536/536 [==============================] - 2s 3ms/step - loss: 0.4502 - accuracy: 0.7905 - val_loss: 0.4420 - val_accuracy: 0.7955\n",
      "Epoch 8/100\n",
      "536/536 [==============================] - 2s 3ms/step - loss: 0.4400 - accuracy: 0.7960 - val_loss: 0.4402 - val_accuracy: 0.7955\n",
      "Epoch 9/100\n",
      "536/536 [==============================] - 1s 2ms/step - loss: 0.4344 - accuracy: 0.8003 - val_loss: 0.4389 - val_accuracy: 0.7955\n",
      "Epoch 10/100\n",
      "536/536 [==============================] - 1s 2ms/step - loss: 0.4369 - accuracy: 0.7996 - val_loss: 0.4378 - val_accuracy: 0.7955\n",
      "Epoch 11/100\n",
      "536/536 [==============================] - 1s 2ms/step - loss: 0.4331 - accuracy: 0.7981 - val_loss: 0.4370 - val_accuracy: 0.7955\n",
      "Epoch 12/100\n",
      "536/536 [==============================] - 2s 3ms/step - loss: 0.4436 - accuracy: 0.7902 - val_loss: 0.4363 - val_accuracy: 0.7955\n",
      "Epoch 13/100\n",
      "536/536 [==============================] - 1s 3ms/step - loss: 0.4304 - accuracy: 0.7972 - val_loss: 0.4357 - val_accuracy: 0.7955\n",
      "Epoch 14/100\n",
      "536/536 [==============================] - 2s 3ms/step - loss: 0.4203 - accuracy: 0.8009 - val_loss: 0.4351 - val_accuracy: 0.7955\n",
      "Epoch 15/100\n",
      "536/536 [==============================] - 1s 2ms/step - loss: 0.4273 - accuracy: 0.7963 - val_loss: 0.4346 - val_accuracy: 0.7955\n",
      "Epoch 16/100\n",
      "536/536 [==============================] - 1s 2ms/step - loss: 0.4308 - accuracy: 0.7924 - val_loss: 0.4342 - val_accuracy: 0.8012\n",
      "Epoch 17/100\n",
      "536/536 [==============================] - 1s 2ms/step - loss: 0.4220 - accuracy: 0.8014 - val_loss: 0.4338 - val_accuracy: 0.8042\n",
      "Epoch 18/100\n",
      "536/536 [==============================] - 1s 2ms/step - loss: 0.4347 - accuracy: 0.7990 - val_loss: 0.4333 - val_accuracy: 0.8069\n",
      "Epoch 19/100\n",
      "536/536 [==============================] - 1s 2ms/step - loss: 0.4195 - accuracy: 0.8127 - val_loss: 0.4329 - val_accuracy: 0.8092\n",
      "Epoch 20/100\n",
      "536/536 [==============================] - 1s 2ms/step - loss: 0.4272 - accuracy: 0.8035 - val_loss: 0.4324 - val_accuracy: 0.8084\n",
      "Epoch 21/100\n",
      "536/536 [==============================] - 1s 3ms/step - loss: 0.4263 - accuracy: 0.8131 - val_loss: 0.4321 - val_accuracy: 0.8103\n",
      "Epoch 22/100\n",
      "536/536 [==============================] - 1s 2ms/step - loss: 0.4273 - accuracy: 0.8038 - val_loss: 0.4316 - val_accuracy: 0.8114\n",
      "Epoch 23/100\n",
      "536/536 [==============================] - 1s 2ms/step - loss: 0.4243 - accuracy: 0.8095 - val_loss: 0.4310 - val_accuracy: 0.8099\n",
      "Epoch 24/100\n",
      "536/536 [==============================] - 1s 2ms/step - loss: 0.4177 - accuracy: 0.8133 - val_loss: 0.4307 - val_accuracy: 0.8103\n",
      "Epoch 25/100\n",
      "536/536 [==============================] - 1s 2ms/step - loss: 0.4186 - accuracy: 0.8056 - val_loss: 0.4302 - val_accuracy: 0.8141\n",
      "Epoch 26/100\n",
      "536/536 [==============================] - 1s 2ms/step - loss: 0.4171 - accuracy: 0.8205 - val_loss: 0.4298 - val_accuracy: 0.8137\n",
      "Epoch 27/100\n",
      "536/536 [==============================] - 1s 2ms/step - loss: 0.4073 - accuracy: 0.8186 - val_loss: 0.4294 - val_accuracy: 0.8122\n",
      "Epoch 28/100\n",
      "536/536 [==============================] - 1s 2ms/step - loss: 0.4194 - accuracy: 0.8148 - val_loss: 0.4288 - val_accuracy: 0.8118\n",
      "Epoch 29/100\n",
      "536/536 [==============================] - 1s 2ms/step - loss: 0.4088 - accuracy: 0.8217 - val_loss: 0.4281 - val_accuracy: 0.8118\n",
      "Epoch 30/100\n",
      "536/536 [==============================] - 1s 2ms/step - loss: 0.4129 - accuracy: 0.8178 - val_loss: 0.4275 - val_accuracy: 0.8129\n",
      "Epoch 31/100\n",
      "536/536 [==============================] - 1s 2ms/step - loss: 0.4094 - accuracy: 0.8201 - val_loss: 0.4269 - val_accuracy: 0.8122\n",
      "Epoch 32/100\n",
      "536/536 [==============================] - 1s 2ms/step - loss: 0.4084 - accuracy: 0.8248 - val_loss: 0.4264 - val_accuracy: 0.8126\n",
      "Epoch 33/100\n",
      "536/536 [==============================] - 1s 2ms/step - loss: 0.4142 - accuracy: 0.8222 - val_loss: 0.4260 - val_accuracy: 0.8129\n",
      "Epoch 34/100\n",
      "536/536 [==============================] - 1s 3ms/step - loss: 0.4161 - accuracy: 0.8194 - val_loss: 0.4256 - val_accuracy: 0.8107\n",
      "Epoch 35/100\n",
      "536/536 [==============================] - 2s 3ms/step - loss: 0.4136 - accuracy: 0.8164 - val_loss: 0.4251 - val_accuracy: 0.8118\n",
      "Epoch 36/100\n",
      "536/536 [==============================] - 1s 2ms/step - loss: 0.4209 - accuracy: 0.8138 - val_loss: 0.4246 - val_accuracy: 0.8133\n",
      "Epoch 37/100\n",
      "536/536 [==============================] - 1s 2ms/step - loss: 0.4247 - accuracy: 0.8175 - val_loss: 0.4240 - val_accuracy: 0.8141\n",
      "Epoch 38/100\n",
      "536/536 [==============================] - 1s 3ms/step - loss: 0.4085 - accuracy: 0.8181 - val_loss: 0.4233 - val_accuracy: 0.8111\n",
      "Epoch 39/100\n",
      "536/536 [==============================] - 1s 3ms/step - loss: 0.4160 - accuracy: 0.8206 - val_loss: 0.4227 - val_accuracy: 0.8122\n",
      "Epoch 40/100\n",
      "536/536 [==============================] - 2s 3ms/step - loss: 0.4059 - accuracy: 0.8251 - val_loss: 0.4222 - val_accuracy: 0.8126\n",
      "Epoch 41/100\n",
      "536/536 [==============================] - 1s 2ms/step - loss: 0.3958 - accuracy: 0.8303 - val_loss: 0.4216 - val_accuracy: 0.8148\n",
      "Epoch 42/100\n",
      "536/536 [==============================] - 1s 2ms/step - loss: 0.4171 - accuracy: 0.8189 - val_loss: 0.4209 - val_accuracy: 0.8171\n",
      "Epoch 43/100\n",
      "536/536 [==============================] - 1s 2ms/step - loss: 0.4077 - accuracy: 0.8295 - val_loss: 0.4201 - val_accuracy: 0.8201\n",
      "Epoch 44/100\n",
      "536/536 [==============================] - 1s 2ms/step - loss: 0.4042 - accuracy: 0.8327 - val_loss: 0.4194 - val_accuracy: 0.8171\n",
      "Epoch 45/100\n",
      "536/536 [==============================] - 2s 4ms/step - loss: 0.4048 - accuracy: 0.8374 - val_loss: 0.4187 - val_accuracy: 0.8190\n",
      "Epoch 46/100\n",
      "536/536 [==============================] - 1s 2ms/step - loss: 0.4118 - accuracy: 0.8228 - val_loss: 0.4180 - val_accuracy: 0.8205\n",
      "Epoch 47/100\n",
      "536/536 [==============================] - 1s 3ms/step - loss: 0.4122 - accuracy: 0.8298 - val_loss: 0.4172 - val_accuracy: 0.8201\n",
      "Epoch 48/100\n",
      "536/536 [==============================] - 1s 2ms/step - loss: 0.3949 - accuracy: 0.8379 - val_loss: 0.4166 - val_accuracy: 0.8194\n",
      "Epoch 49/100\n",
      "536/536 [==============================] - 1s 2ms/step - loss: 0.4072 - accuracy: 0.8378 - val_loss: 0.4158 - val_accuracy: 0.8247\n",
      "Epoch 50/100\n",
      "536/536 [==============================] - 1s 2ms/step - loss: 0.4105 - accuracy: 0.8359 - val_loss: 0.4151 - val_accuracy: 0.8266\n",
      "Epoch 51/100\n",
      "536/536 [==============================] - 1s 2ms/step - loss: 0.3967 - accuracy: 0.8400 - val_loss: 0.4145 - val_accuracy: 0.8228\n",
      "Epoch 52/100\n",
      "536/536 [==============================] - 1s 2ms/step - loss: 0.4065 - accuracy: 0.8348 - val_loss: 0.4137 - val_accuracy: 0.8262\n",
      "Epoch 53/100\n",
      "536/536 [==============================] - 1s 3ms/step - loss: 0.4074 - accuracy: 0.8322 - val_loss: 0.4132 - val_accuracy: 0.8266\n",
      "Epoch 54/100\n",
      "536/536 [==============================] - 1s 2ms/step - loss: 0.4208 - accuracy: 0.8271 - val_loss: 0.4127 - val_accuracy: 0.8270\n",
      "Epoch 55/100\n",
      "536/536 [==============================] - 1s 2ms/step - loss: 0.4085 - accuracy: 0.8319 - val_loss: 0.4123 - val_accuracy: 0.8292\n",
      "Epoch 56/100\n",
      "536/536 [==============================] - 1s 2ms/step - loss: 0.3897 - accuracy: 0.8449 - val_loss: 0.4115 - val_accuracy: 0.8251\n",
      "Epoch 57/100\n",
      "536/536 [==============================] - 1s 2ms/step - loss: 0.4153 - accuracy: 0.8276 - val_loss: 0.4110 - val_accuracy: 0.8289\n",
      "Epoch 58/100\n",
      "536/536 [==============================] - 1s 2ms/step - loss: 0.4077 - accuracy: 0.8328 - val_loss: 0.4106 - val_accuracy: 0.8281\n",
      "Epoch 59/100\n",
      "536/536 [==============================] - 1s 2ms/step - loss: 0.4098 - accuracy: 0.8328 - val_loss: 0.4100 - val_accuracy: 0.8281\n",
      "Epoch 60/100\n",
      "536/536 [==============================] - 1s 2ms/step - loss: 0.4031 - accuracy: 0.8312 - val_loss: 0.4097 - val_accuracy: 0.8277\n",
      "Epoch 61/100\n",
      "536/536 [==============================] - 1s 2ms/step - loss: 0.3912 - accuracy: 0.8366 - val_loss: 0.4094 - val_accuracy: 0.8285\n",
      "Epoch 62/100\n",
      "536/536 [==============================] - 1s 2ms/step - loss: 0.3998 - accuracy: 0.8298 - val_loss: 0.4090 - val_accuracy: 0.8281\n",
      "Epoch 63/100\n",
      "536/536 [==============================] - 1s 2ms/step - loss: 0.3850 - accuracy: 0.8420 - val_loss: 0.4088 - val_accuracy: 0.8254\n",
      "Epoch 64/100\n",
      "536/536 [==============================] - 1s 3ms/step - loss: 0.4044 - accuracy: 0.8352 - val_loss: 0.4082 - val_accuracy: 0.8289\n",
      "Epoch 65/100\n",
      "536/536 [==============================] - 1s 2ms/step - loss: 0.3887 - accuracy: 0.8391 - val_loss: 0.4075 - val_accuracy: 0.8277\n",
      "Epoch 66/100\n",
      "536/536 [==============================] - 1s 2ms/step - loss: 0.3851 - accuracy: 0.8417 - val_loss: 0.4073 - val_accuracy: 0.8292\n",
      "Epoch 67/100\n",
      "536/536 [==============================] - 1s 2ms/step - loss: 0.3920 - accuracy: 0.8410 - val_loss: 0.4071 - val_accuracy: 0.8300\n",
      "Epoch 68/100\n",
      "536/536 [==============================] - 1s 2ms/step - loss: 0.3831 - accuracy: 0.8431 - val_loss: 0.4067 - val_accuracy: 0.8300\n",
      "Epoch 69/100\n",
      "536/536 [==============================] - 1s 2ms/step - loss: 0.3894 - accuracy: 0.8414 - val_loss: 0.4063 - val_accuracy: 0.8307\n",
      "Epoch 70/100\n",
      "536/536 [==============================] - 2s 3ms/step - loss: 0.3965 - accuracy: 0.8372 - val_loss: 0.4059 - val_accuracy: 0.8304\n",
      "Epoch 71/100\n",
      "536/536 [==============================] - 1s 2ms/step - loss: 0.3822 - accuracy: 0.8488 - val_loss: 0.4055 - val_accuracy: 0.8304\n",
      "Epoch 72/100\n",
      "536/536 [==============================] - 1s 2ms/step - loss: 0.4060 - accuracy: 0.8292 - val_loss: 0.4053 - val_accuracy: 0.8307\n",
      "Epoch 73/100\n",
      "536/536 [==============================] - 1s 2ms/step - loss: 0.3903 - accuracy: 0.8411 - val_loss: 0.4049 - val_accuracy: 0.8296\n",
      "Epoch 74/100\n",
      "536/536 [==============================] - 1s 2ms/step - loss: 0.3971 - accuracy: 0.8399 - val_loss: 0.4045 - val_accuracy: 0.8285\n",
      "Epoch 75/100\n",
      "536/536 [==============================] - 1s 2ms/step - loss: 0.3800 - accuracy: 0.8436 - val_loss: 0.4040 - val_accuracy: 0.8289\n",
      "Epoch 76/100\n",
      "536/536 [==============================] - 1s 2ms/step - loss: 0.3753 - accuracy: 0.8510 - val_loss: 0.4037 - val_accuracy: 0.8281\n",
      "Epoch 77/100\n",
      "536/536 [==============================] - 1s 2ms/step - loss: 0.4002 - accuracy: 0.8393 - val_loss: 0.4030 - val_accuracy: 0.8300\n",
      "Epoch 78/100\n",
      "536/536 [==============================] - 1s 2ms/step - loss: 0.3872 - accuracy: 0.8404 - val_loss: 0.4025 - val_accuracy: 0.8289\n",
      "Epoch 79/100\n",
      "536/536 [==============================] - 1s 2ms/step - loss: 0.3943 - accuracy: 0.8352 - val_loss: 0.4019 - val_accuracy: 0.8285\n",
      "Epoch 80/100\n",
      "536/536 [==============================] - 1s 2ms/step - loss: 0.3781 - accuracy: 0.8462 - val_loss: 0.4017 - val_accuracy: 0.8285\n",
      "Epoch 81/100\n",
      "536/536 [==============================] - 1s 3ms/step - loss: 0.3925 - accuracy: 0.8396 - val_loss: 0.4012 - val_accuracy: 0.8289\n",
      "Epoch 82/100\n",
      "536/536 [==============================] - 1s 3ms/step - loss: 0.3832 - accuracy: 0.8437 - val_loss: 0.4003 - val_accuracy: 0.8289\n",
      "Epoch 83/100\n",
      "536/536 [==============================] - 1s 2ms/step - loss: 0.3775 - accuracy: 0.8467 - val_loss: 0.3996 - val_accuracy: 0.8307\n",
      "Epoch 84/100\n",
      "536/536 [==============================] - 1s 2ms/step - loss: 0.3815 - accuracy: 0.8445 - val_loss: 0.3986 - val_accuracy: 0.8311\n",
      "Epoch 85/100\n",
      "536/536 [==============================] - 1s 2ms/step - loss: 0.3902 - accuracy: 0.8412 - val_loss: 0.3980 - val_accuracy: 0.8323\n",
      "Epoch 86/100\n",
      "536/536 [==============================] - 1s 2ms/step - loss: 0.3937 - accuracy: 0.8351 - val_loss: 0.3972 - val_accuracy: 0.8315\n",
      "Epoch 87/100\n",
      "536/536 [==============================] - 1s 2ms/step - loss: 0.3791 - accuracy: 0.8489 - val_loss: 0.3957 - val_accuracy: 0.8326\n",
      "Epoch 88/100\n",
      "536/536 [==============================] - 1s 3ms/step - loss: 0.3836 - accuracy: 0.8456 - val_loss: 0.3944 - val_accuracy: 0.8342\n",
      "Epoch 89/100\n",
      "536/536 [==============================] - 1s 3ms/step - loss: 0.3793 - accuracy: 0.8460 - val_loss: 0.3929 - val_accuracy: 0.8357\n",
      "Epoch 90/100\n",
      "536/536 [==============================] - 1s 3ms/step - loss: 0.3675 - accuracy: 0.8484 - val_loss: 0.3913 - val_accuracy: 0.8364\n",
      "Epoch 91/100\n",
      "536/536 [==============================] - 1s 2ms/step - loss: 0.3741 - accuracy: 0.8446 - val_loss: 0.3896 - val_accuracy: 0.8372\n",
      "Epoch 92/100\n",
      "536/536 [==============================] - 1s 2ms/step - loss: 0.3755 - accuracy: 0.8453 - val_loss: 0.3875 - val_accuracy: 0.8383\n",
      "Epoch 93/100\n",
      "536/536 [==============================] - 1s 2ms/step - loss: 0.3710 - accuracy: 0.8490 - val_loss: 0.3850 - val_accuracy: 0.8395\n",
      "Epoch 94/100\n",
      "536/536 [==============================] - 1s 3ms/step - loss: 0.3708 - accuracy: 0.8443 - val_loss: 0.3826 - val_accuracy: 0.8421\n",
      "Epoch 95/100\n",
      "536/536 [==============================] - 1s 3ms/step - loss: 0.3579 - accuracy: 0.8541 - val_loss: 0.3798 - val_accuracy: 0.8421\n",
      "Epoch 96/100\n",
      "536/536 [==============================] - 1s 3ms/step - loss: 0.3575 - accuracy: 0.8518 - val_loss: 0.3773 - val_accuracy: 0.8417\n",
      "Epoch 97/100\n",
      "536/536 [==============================] - 1s 3ms/step - loss: 0.3704 - accuracy: 0.8479 - val_loss: 0.3749 - val_accuracy: 0.8444\n",
      "Epoch 98/100\n",
      "536/536 [==============================] - 1s 2ms/step - loss: 0.3597 - accuracy: 0.8504 - val_loss: 0.3726 - val_accuracy: 0.8459\n",
      "Epoch 99/100\n",
      "536/536 [==============================] - 1s 3ms/step - loss: 0.3558 - accuracy: 0.8539 - val_loss: 0.3702 - val_accuracy: 0.8474\n",
      "Epoch 100/100\n",
      "536/536 [==============================] - 1s 2ms/step - loss: 0.3564 - accuracy: 0.8549 - val_loss: 0.3683 - val_accuracy: 0.8489\n"
     ]
    }
   ],
   "source": [
    "model_history = classifier.fit(x_train, y_train, validation_split=0.33, batch_size=10, epochs=100)"
   ]
  },
  {
   "cell_type": "code",
   "execution_count": 42,
   "id": "2aabd8d1-2ed7-4e59-a078-95e97534f679",
   "metadata": {},
   "outputs": [
    {
     "name": "stdout",
     "output_type": "stream",
     "text": [
      "dict_keys(['loss', 'accuracy', 'val_loss', 'val_accuracy'])\n"
     ]
    }
   ],
   "source": [
    "print(model_history.history.keys())  "
   ]
  },
  {
   "cell_type": "code",
   "execution_count": 46,
   "id": "a23efbb8-502f-4c46-8b84-f8a4c04d6d79",
   "metadata": {},
   "outputs": [
    {
     "data": {
      "image/png": "[encoded data removed]",
      "text/plain": [
       "<Figure size 432x288 with 1 Axes>"
      ]
     },
     "metadata": {
      "needs_background": "light"
     },
     "output_type": "display_data"
    }
   ],
   "source": [
    "plt.plot(model_history.history['accuracy'])\n",
    "plt.plot(model_history.history['val_accuracy'])\n",
    "plt.title('model loss')\n",
    "plt.ylabel('loss')\n",
    "plt.xlabel('epoch')\n",
    "plt.legend(['train','test'], loc='upper left')\n",
    "plt.show()"
   ]
  },
  {
   "cell_type": "code",
   "execution_count": 47,
   "id": "557d3962-3a98-4ea1-8bfe-eecf10f760cc",
   "metadata": {},
   "outputs": [],
   "source": [
    "y_pred = classifier.predict(x_test)\n",
    "y_pred = (y_pred > 0.5)"
   ]
  },
  {
   "cell_type": "code",
   "execution_count": 57,
   "id": "cc079080-b30e-47b6-bd52-2224e848993a",
   "metadata": {},
   "outputs": [],
   "source": [
    "from sklearn.metrics import confusion_matrix"
   ]
  },
  {
   "cell_type": "code",
   "execution_count": 58,
   "id": "11f02680-9075-4fe5-8531-4d953e49c3d2",
   "metadata": {},
   "outputs": [],
   "source": [
    "cm = confusion_matrix(y_test,y_pred)"
   ]
  },
  {
   "cell_type": "code",
   "execution_count": 59,
   "id": "a33f2ccd-1010-4df7-a3ef-c5c2f04de5c9",
   "metadata": {},
   "outputs": [
    {
     "data": {
      "text/plain": [
       "array([[1546,   49],\n",
       "       [ 226,  179]])"
      ]
     },
     "execution_count": 59,
     "metadata": {},
     "output_type": "execute_result"
    }
   ],
   "source": [
    "cm"
   ]
  },
  {
   "cell_type": "code",
   "execution_count": 60,
   "id": "bb57ba27-6628-417b-a958-ce56b4e859b5",
   "metadata": {},
   "outputs": [],
   "source": [
    "from sklearn.metrics import accuracy_score\n",
    "score = accuracy_score(y_pred,y_test)"
   ]
  },
  {
   "cell_type": "code",
   "execution_count": 61,
   "id": "cf400f1d-5757-4177-9e5f-ddd58ac408fd",
   "metadata": {},
   "outputs": [
    {
     "data": {
      "text/plain": [
       "0.8625"
      ]
     },
     "execution_count": 61,
     "metadata": {},
     "output_type": "execute_result"
    }
   ],
   "source": [
    "score"
   ]
  },
  {
   "cell_type": "code",
   "execution_count": null,
   "id": "1401c8c4-aa03-4de5-b035-2838cfdcf177",
   "metadata": {},
   "outputs": [],
   "source": []
  }
 ],
 "metadata": {
  "kernelspec": {
   "display_name": "Python 3",
   "language": "python",
   "name": "python3"
  },
  "language_info": {
   "codemirror_mode": {
    "name": "ipython",
    "version": 3
   },
   "file_extension": ".py",
   "mimetype": "text/x-python",
   "name": "python",
   "nbconvert_exporter": "python",
   "pygments_lexer": "ipython3",
   "version": "3.8.2"
  }
 },
 "nbformat": 4,
 "nbformat_minor": 5
}
