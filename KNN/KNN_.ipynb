{
 "cells": [
  {
   "cell_type": "code",
   "execution_count": 79,
   "id": "40347cda-1c77-46d3-a8cc-6d1d3ca9a564",
   "metadata": {},
   "outputs": [],
   "source": [
    "import cv2\n",
    "import numpy as np\n",
    "import pandas as pd\n",
    "from matplotlib import pyplot as plt\n",
    "import math"
   ]
  },
  {
   "cell_type": "code",
   "execution_count": 80,
   "id": "0f049a5e-969a-4f0a-9a8a-fc5ff2d0ecf9",
   "metadata": {},
   "outputs": [],
   "source": [
    "data = pd.read_csv('Iris.csv')"
   ]
  },
  {
   "cell_type": "code",
   "execution_count": 81,
   "id": "7e52e2f3-a43d-472a-92e1-e5b829995973",
   "metadata": {},
   "outputs": [
    {
     "data": {
      "text/plain": [
       "(150, 6)"
      ]
     },
     "execution_count": 81,
     "metadata": {},
     "output_type": "execute_result"
    }
   ],
   "source": [
    "data.shape"
   ]
  },
  {
   "cell_type": "code",
   "execution_count": 82,
   "id": "3c878435-5854-4c23-bb92-af78d24c1500",
   "metadata": {},
   "outputs": [
    {
     "name": "stdout",
     "output_type": "stream",
     "text": [
      "      Id  SepalLengthCm  SepalWidthCm  PetalLengthCm  PetalWidthCm  \\\n",
      "0      1            5.1           3.5            1.4           0.2   \n",
      "1      2            4.9           3.0            1.4           0.2   \n",
      "2      3            4.7           3.2            1.3           0.2   \n",
      "3      4            4.6           3.1            1.5           0.2   \n",
      "4      5            5.0           3.6            1.4           0.2   \n",
      "..   ...            ...           ...            ...           ...   \n",
      "145  146            6.7           3.0            5.2           2.3   \n",
      "146  147            6.3           2.5            5.0           1.9   \n",
      "147  148            6.5           3.0            5.2           2.0   \n",
      "148  149            6.2           3.4            5.4           2.3   \n",
      "149  150            5.9           3.0            5.1           1.8   \n",
      "\n",
      "            Species  \n",
      "0       Iris-setosa  \n",
      "1       Iris-setosa  \n",
      "2       Iris-setosa  \n",
      "3       Iris-setosa  \n",
      "4       Iris-setosa  \n",
      "..              ...  \n",
      "145  Iris-virginica  \n",
      "146  Iris-virginica  \n",
      "147  Iris-virginica  \n",
      "148  Iris-virginica  \n",
      "149  Iris-virginica  \n",
      "\n",
      "[150 rows x 6 columns]\n"
     ]
    }
   ],
   "source": [
    "print(data)"
   ]
  },
  {
   "cell_type": "code",
   "execution_count": 83,
   "id": "0ef20cdb-b793-40d6-8e70-e39775b076ba",
   "metadata": {},
   "outputs": [
    {
     "name": "stdout",
     "output_type": "stream",
     "text": [
      "(150,)\n",
      "(150, 4)\n"
     ]
    }
   ],
   "source": [
    "x = data.iloc[:,1:-1]\n",
    "y = data.iloc[:,5]\n",
    "print(y.shape)\n",
    "print(x.shape)"
   ]
  },
  {
   "cell_type": "code",
   "execution_count": 84,
   "id": "df953ef4-41a6-4a91-944e-70f3670b75fe",
   "metadata": {},
   "outputs": [],
   "source": [
    "from sklearn.model_selection import train_test_split"
   ]
  },
  {
   "cell_type": "code",
   "execution_count": 97,
   "id": "6920cf3b-4159-4331-89dd-2276cb846d99",
   "metadata": {},
   "outputs": [],
   "source": [
    "X_train, X_test, Y_train, Y_test = train_test_split(x,y,test_size = 0.4,random_state=0)"
   ]
  },
  {
   "cell_type": "code",
   "execution_count": 98,
   "id": "b5e24ce9-4361-433a-beb5-4c8d27f1f7f9",
   "metadata": {},
   "outputs": [
    {
     "name": "stdout",
     "output_type": "stream",
     "text": [
      "['Iris-versicolor' 'Iris-setosa' 'Iris-virginica' 'Iris-versicolor'\n",
      " 'Iris-versicolor' 'Iris-versicolor' 'Iris-versicolor' 'Iris-virginica'\n",
      " 'Iris-setosa' 'Iris-setosa' 'Iris-virginica' 'Iris-versicolor'\n",
      " 'Iris-setosa' 'Iris-setosa' 'Iris-versicolor' 'Iris-setosa'\n",
      " 'Iris-virginica' 'Iris-versicolor' 'Iris-setosa' 'Iris-versicolor'\n",
      " 'Iris-virginica' 'Iris-versicolor' 'Iris-setosa' 'Iris-virginica'\n",
      " 'Iris-virginica' 'Iris-virginica' 'Iris-virginica' 'Iris-setosa'\n",
      " 'Iris-setosa' 'Iris-virginica' 'Iris-virginica' 'Iris-setosa'\n",
      " 'Iris-virginica' 'Iris-setosa' 'Iris-virginica' 'Iris-virginica'\n",
      " 'Iris-setosa' 'Iris-setosa' 'Iris-virginica' 'Iris-setosa' 'Iris-setosa'\n",
      " 'Iris-setosa' 'Iris-versicolor' 'Iris-virginica' 'Iris-virginica'\n",
      " 'Iris-setosa' 'Iris-setosa' 'Iris-setosa' 'Iris-versicolor'\n",
      " 'Iris-versicolor' 'Iris-setosa' 'Iris-setosa' 'Iris-versicolor'\n",
      " 'Iris-setosa' 'Iris-virginica' 'Iris-versicolor' 'Iris-virginica'\n",
      " 'Iris-versicolor' 'Iris-setosa' 'Iris-virginica' 'Iris-setosa'\n",
      " 'Iris-virginica' 'Iris-setosa' 'Iris-setosa' 'Iris-virginica'\n",
      " 'Iris-setosa' 'Iris-virginica' 'Iris-versicolor' 'Iris-versicolor'\n",
      " 'Iris-versicolor' 'Iris-virginica' 'Iris-virginica' 'Iris-versicolor'\n",
      " 'Iris-versicolor' 'Iris-setosa' 'Iris-versicolor' 'Iris-virginica'\n",
      " 'Iris-virginica' 'Iris-setosa' 'Iris-versicolor' 'Iris-versicolor'\n",
      " 'Iris-versicolor' 'Iris-versicolor' 'Iris-setosa' 'Iris-setosa'\n",
      " 'Iris-setosa' 'Iris-virginica' 'Iris-versicolor' 'Iris-virginica'\n",
      " 'Iris-setosa']\n",
      "(90, 4)\n",
      "(60,)\n",
      "(60, 4)\n"
     ]
    }
   ],
   "source": [
    "X_train = np.array(X_train)\n",
    "Y_train = np.array(Y_train)\n",
    "X_test = np.array(X_test)\n",
    "Y_test = np.array(Y_test)\n",
    "print(Y_train)\n",
    "print(X_train.shape)\n",
    "print(Y_test.shape)\n",
    "print(X_test.shape)"
   ]
  },
  {
   "cell_type": "code",
   "execution_count": 99,
   "id": "5147bfed-1913-4b23-bd84-1e77aaf102f7",
   "metadata": {},
   "outputs": [],
   "source": [
    "def Euclidean(x1,x2):\n",
    "    distance=0\n",
    "    for i in range(len(x1)):\n",
    "        distance += (x1[i]-x2[i])*(x1[i]-x2[i])\n",
    "    return math.sqrt(distance)"
   ]
  },
  {
   "cell_type": "code",
   "execution_count": 100,
   "id": "826da7e8-08c0-4fd4-b3eb-5f277bde1492",
   "metadata": {},
   "outputs": [],
   "source": [
    "def KNN(Xtrn,Ytrn,xtst,ytst,k):\n",
    "    accuracy_of_each = []\n",
    "    for l in range(1,k):\n",
    "        all_k_distances = []\n",
    "        for m in range(len(xtst)):\n",
    "            distanceOfAll = []\n",
    "            for i in range(len(Xtrn)):\n",
    "                distance = Euclidean(Xtrn[i],xtst[m])\n",
    "                distanceOfAll.append([distance,i,Ytrn[i]])\n",
    "            distanceOfAll.sort()\n",
    "            #print(l,m)\n",
    "            distanceOfAll = np.array(distanceOfAll)\n",
    "            all_k_distances.append(distanceOfAll)\n",
    "        all_k_distances = np.array(all_k_distances)\n",
    "        correct_ans=0\n",
    "        #print(l)\n",
    "        for i in range(len(xtst)):\n",
    "            ta=0\n",
    "            tb=0\n",
    "            tc=0\n",
    "            for q in range(l):\n",
    "                if all_k_distances[i][q][2]==\"Iris-virginica\":\n",
    "                    ta+=1\n",
    "                elif all_k_distances[i][q][2]==\"Iris-setosa\":\n",
    "                    tb+=1\n",
    "                elif all_k_distances[i][q][2]==\"Iris-versicolor\":\n",
    "                    tc+=1\n",
    "            if ta>=tb and ta>=tc and ytst[i]==\"Iris-virginica\":\n",
    "                #print(ytst[i])\n",
    "                correct_ans+=1\n",
    "            elif tb>=ta and tb>=tc and ytst[i]==\"Iris-setosa\":\n",
    "                #print(ytst[i])\n",
    "                correct_ans+=1\n",
    "            elif tc>=ta and tc>=tb and ytst[i]==\"Iris-versicolor\":\n",
    "                #print(ytst[i])\n",
    "                correct_ans+=1\n",
    "        accuracy = correct_ans/len(xtst)\n",
    "        accuracy_of_each.append(accuracy)\n",
    "    print(accuracy_of_each)\n",
    "    return max(accuracy_of_each) , accuracy_of_each.index(max(accuracy_of_each))+1"
   ]
  },
  {
   "cell_type": "code",
   "execution_count": 101,
   "id": "a9972523-088c-46ef-be2b-263964d4cc4d",
   "metadata": {},
   "outputs": [
    {
     "name": "stdout",
     "output_type": "stream",
     "text": [
      "[0.9166666666666666, 0.95, 0.9333333333333333, 0.9666666666666667, 0.95, 0.9666666666666667, 0.9666666666666667, 0.9666666666666667, 0.9666666666666667, 0.9666666666666667, 0.9666666666666667, 0.9666666666666667, 0.95, 0.9666666666666667, 0.9333333333333333, 0.9333333333333333, 0.9333333333333333, 0.95, 0.9333333333333333, 0.9333333333333333, 0.9333333333333333, 0.9333333333333333, 0.9, 0.9, 0.8666666666666667, 0.9333333333333333, 0.9, 0.9, 0.9, 0.9]\n"
     ]
    }
   ],
   "source": [
    "k , acc = KNN(X_train,Y_train,X_test,Y_test,31)"
   ]
  },
  {
   "cell_type": "code",
   "execution_count": 102,
   "id": "478b4abc-0849-4abb-a272-c59811ed6b3c",
   "metadata": {},
   "outputs": [
    {
     "name": "stdout",
     "output_type": "stream",
     "text": [
      "0.9666666666666667 4\n"
     ]
    }
   ],
   "source": [
    "print(k,acc)"
   ]
  },
  {
   "cell_type": "code",
   "execution_count": null,
   "id": "494ed463-e918-47e0-9f6d-01510468c7c6",
   "metadata": {},
   "outputs": [],
   "source": []
  }
 ],
 "metadata": {
  "kernelspec": {
   "display_name": "Python 3",
   "language": "python",
   "name": "python3"
  },
  "language_info": {
   "codemirror_mode": {
    "name": "ipython",
    "version": 3
   },
   "file_extension": ".py",
   "mimetype": "text/x-python",
   "name": "python",
   "nbconvert_exporter": "python",
   "pygments_lexer": "ipython3",
   "version": "3.8.5"
  }
 },
 "nbformat": 4,
 "nbformat_minor": 5
}
